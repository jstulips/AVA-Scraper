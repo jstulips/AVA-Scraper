{
 "cells": [
  {
   "cell_type": "markdown",
   "metadata": {
    "deletable": true,
    "editable": true
   },
   "source": [
    "# Verification\n",
    "\n",
    "This part deals with verifying whether all the new images have been extracted from their respective challenges. \n",
    "Some of the images have been disqualified, hence, it has not been deducted from the number of entries in the challenge page.\n",
    "\n",
    "Expectation: 82,702 images <br>\n",
    "Reality: 81,986 images "
   ]
  },
  {
   "cell_type": "code",
   "execution_count": 15,
   "metadata": {
    "collapsed": false,
    "deletable": true,
    "editable": true
   },
   "outputs": [
    {
     "name": "stdout",
     "output_type": "stream",
     "text": [
      "81986\n"
     ]
    }
   ],
   "source": [
    "# Load the AVA 2.0 text file\n",
    "# Fetch the last column, as it corresponds to challenge ID\n",
    "\n",
    "extracted_image_challenges = {}\n",
    "count = 0\n",
    "\n",
    "with open('AVA 2.0.txt') as file:\n",
    "    \n",
    "    for line in file:\n",
    "        image_data = line.split()\n",
    "        count += 1\n",
    "        \n",
    "        # If challenge ID is not in list, append it\n",
    "        if image_data[-1] not in extracted_image_challenges:\n",
    "            extracted_image_challenges[image_data[-1]] = 1\n",
    "        else:\n",
    "            extracted_image_challenges[image_data[-1]] += 1\n",
    "        \n",
    "print(count)"
   ]
  },
  {
   "cell_type": "code",
   "execution_count": 5,
   "metadata": {
    "collapsed": false,
    "deletable": true,
    "editable": true
   },
   "outputs": [
    {
     "name": "stdout",
     "output_type": "stream",
     "text": [
      "1080\n"
     ]
    }
   ],
   "source": [
    "# Load the AVA 2.0 Challenge file\n",
    "# Fetch the first column, as it corresponds to challenge ID\n",
    "\n",
    "challenge_id_list = []\n",
    "\n",
    "with open('AVA 2.0/AVA 2.0 challenges.txt') as file:\n",
    "    \n",
    "    for line in file:\n",
    "        challenge_data = line.split()\n",
    "        \n",
    "        challenge_id_list.append(challenge_data[0])\n",
    "        \n",
    "print(len(challenge_id_list))"
   ]
  },
  {
   "cell_type": "code",
   "execution_count": 21,
   "metadata": {
    "collapsed": false
   },
   "outputs": [],
   "source": [
    "# Count the number of images and pictures\n",
    "new_pictures = 0\n",
    "new_comments = 0\n",
    "count = 0\n",
    "with open('AVA (All)/Challenge Info.txt') as file:\n",
    "    for line in file:\n",
    "        challenge_data = line.split()\n",
    "        \n",
    "        #if challenge_data[0] in challenge_id_list:\n",
    "            #print('ID: ', challenge_data[0])\n",
    "            #print('EXPECTATION: ', challenge_data[2])\n",
    "            #print('REALITY: ', extracted_image_challenges[challenge_data[0]])\n",
    "            #print('\\n')"
   ]
  }
 ],
 "metadata": {
  "kernelspec": {
   "display_name": "Python 3",
   "language": "python",
   "name": "python3"
  },
  "language_info": {
   "codemirror_mode": {
    "name": "ipython",
    "version": 3
   },
   "file_extension": ".py",
   "mimetype": "text/x-python",
   "name": "python",
   "nbconvert_exporter": "python",
   "pygments_lexer": "ipython3",
   "version": "3.5.3"
  }
 },
 "nbformat": 4,
 "nbformat_minor": 2
}
