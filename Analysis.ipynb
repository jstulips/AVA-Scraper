{
 "cells": [
  {
   "cell_type": "markdown",
   "metadata": {},
   "source": [
    "# Verification\n",
    "\n",
    "This part deals with verifying whether all the new images have been extracted from their respective challenges. "
   ]
  },
  {
   "cell_type": "code",
   "execution_count": 2,
   "metadata": {
    "collapsed": false
   },
   "outputs": [
    {
     "name": "stdout",
     "output_type": "stream",
     "text": [
      "1080\n"
     ]
    }
   ],
   "source": [
    "# Load the AVA 2.0 text file\n",
    "# Fetch the last column, as it corresponds to challenge ID\n",
    "\n",
    "extracted_image_challenges = []\n",
    "\n",
    "with open('AVA 2.0.txt') as file:\n",
    "    \n",
    "    for line in file:\n",
    "        image_data = line.split()\n",
    "        \n",
    "        # If challenge ID is not in list, append it\n",
    "        if image_data[-1] not in extracted_image_challenges:\n",
    "            extracted_image_challenges.append(image_data[-1])\n",
    "        \n",
    "print(len(extracted_image_challenges))"
   ]
  },
  {
   "cell_type": "code",
   "execution_count": 3,
   "metadata": {
    "collapsed": false
   },
   "outputs": [
    {
     "name": "stdout",
     "output_type": "stream",
     "text": [
      "1080\n"
     ]
    }
   ],
   "source": [
    "# Load the AVA 2.0 Challenge file\n",
    "# Fetch the first column, as it corresponds to challenge ID\n",
    "\n",
    "challenge_id_list = []\n",
    "\n",
    "with open('AVA 2.0 challenges.txt') as file:\n",
    "    \n",
    "    for line in file:\n",
    "        challenge_data = line.split()\n",
    "        \n",
    "        challenge_id_list.append(challenge_data[0])\n",
    "        \n",
    "print(len(challenge_id_list))"
   ]
  },
  {
   "cell_type": "code",
   "execution_count": 5,
   "metadata": {
    "collapsed": false
   },
   "outputs": [
    {
     "data": {
      "text/plain": [
       "True"
      ]
     },
     "execution_count": 5,
     "metadata": {},
     "output_type": "execute_result"
    }
   ],
   "source": [
    "extracted_image_challenges == challenge_id_list"
   ]
  }
 ],
 "metadata": {
  "kernelspec": {
   "display_name": "Python 3",
   "language": "python",
   "name": "python3"
  },
  "language_info": {
   "codemirror_mode": {
    "name": "ipython",
    "version": 3
   },
   "file_extension": ".py",
   "mimetype": "text/x-python",
   "name": "python",
   "nbconvert_exporter": "python",
   "pygments_lexer": "ipython3",
   "version": "3.5.3"
  }
 },
 "nbformat": 4,
 "nbformat_minor": 2
}
